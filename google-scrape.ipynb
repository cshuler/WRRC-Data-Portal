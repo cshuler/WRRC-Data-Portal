{
 "cells": [
  {
   "cell_type": "code",
   "execution_count": 2,
   "id": "675a718d",
   "metadata": {},
   "outputs": [],
   "source": [
    "from bs4 import BeautifulSoup\n",
    "import requests, lxml, os, json"
   ]
  },
  {
   "cell_type": "code",
   "execution_count": 18,
   "id": "bd46823c",
   "metadata": {},
   "outputs": [],
   "source": [
    "headers = {\n",
    "    'User-agent':\n",
    "    \"Mozilla/5.0 (Windows NT 10.0; Win64; x64) AppleWebKit/537.36 (KHTML, like Gecko) Chrome/70.0.3538.102 Safari/537.36 Edge/18.19582\"\n",
    "}\n",
    "\n",
    "params = {\n",
    "  \"q\": \"SOURCE PARTITIONING OF ANTHROPOGENIC GROUNDWATER NITROGEN IN A MIXEDUSE LANDSCAPE TUTUILA AMERICAN SAMOA A THESIS SUBMITTED TO THE GRADUATE DIVISION OF THE UNIVERSITY OF HAWAII AT MNOA\",\n",
    "  \"hl\": \"en\",\n",
    "}"
   ]
  },
  {
   "cell_type": "code",
   "execution_count": 19,
   "id": "14edd3cc",
   "metadata": {},
   "outputs": [],
   "source": [
    "html = requests.get('https://scholar.google.com/scholar', headers=headers, params=params).text\n",
    "soup = BeautifulSoup(html, 'lxml')"
   ]
  },
  {
   "cell_type": "code",
   "execution_count": 20,
   "id": "ab550fb5",
   "metadata": {},
   "outputs": [
    {
     "name": "stdout",
     "output_type": "stream",
     "text": [
      "https://scholarspace.manoa.hawaii.edu/bitstream/10125/51350/2016-05-ms-shuler_r.pdf\n"
     ]
    }
   ],
   "source": [
    "# Scrape just PDF links\n",
    "for pdf_link in soup.select('.gs_or_ggsm a'):\n",
    "    pdf_file_link = pdf_link['href']\n",
    "    print(pdf_file_link)"
   ]
  },
  {
   "cell_type": "code",
   "execution_count": 21,
   "id": "0ce606a4",
   "metadata": {},
   "outputs": [],
   "source": [
    "# JSON data will be collected here\n",
    "data = []\n",
    "\n",
    "# Container where all needed data is located\n",
    "for result in soup.select('.gs_ri'):\n",
    "    title = result.select_one('.gs_rt').text\n",
    "    title_link = result.select_one('.gs_rt a')['href']\n",
    "    publication_info = result.select_one('.gs_a').text\n",
    "    snippet = result.select_one('.gs_rs').text\n",
    "    cited_by = result.select_one('#gs_res_ccl_mid .gs_nph+ a')['href']\n",
    "    related_articles = result.select_one('a:nth-child(4)')['href']\n",
    "  \n",
    "    try:\n",
    "        all_article_versions = result.select_one('a~ a+ .gs_nph')['href']\n",
    "    except:\n",
    "        all_article_versions = None  \n",
    "    \n",
    "    data.append({\n",
    "    'title': title,\n",
    "    'title_link': title_link,\n",
    "    'publication_info': publication_info,\n",
    "    'snippet': snippet,\n",
    "    'cited_by': f'https://scholar.google.com{cited_by}',\n",
    "    'related_articles': f'https://scholar.google.com{related_articles}',\n",
    "    'all_article_versions': f'https://scholar.google.com{all_article_versions}',\n",
    "    })"
   ]
  },
  {
   "cell_type": "code",
   "execution_count": 23,
   "id": "025f0b7b",
   "metadata": {},
   "outputs": [
    {
     "data": {
      "text/plain": [
       "'Source partitioning of anthropogenic groundwater nitrogen in a mixed-use landscape, Tutuila, American Samoa'"
      ]
     },
     "execution_count": 23,
     "metadata": {},
     "output_type": "execute_result"
    }
   ],
   "source": [
    "data[0]['title']"
   ]
  }
 ],
 "metadata": {
  "kernelspec": {
   "display_name": "Python 3",
   "language": "python",
   "name": "python3"
  },
  "language_info": {
   "codemirror_mode": {
    "name": "ipython",
    "version": 3
   },
   "file_extension": ".py",
   "mimetype": "text/x-python",
   "name": "python",
   "nbconvert_exporter": "python",
   "pygments_lexer": "ipython3",
   "version": "3.8.8"
  }
 },
 "nbformat": 4,
 "nbformat_minor": 5
}
