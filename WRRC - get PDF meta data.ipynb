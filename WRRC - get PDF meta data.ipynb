{
 "cells": [
  {
   "cell_type": "markdown",
   "id": "b8153768",
   "metadata": {},
   "source": [
    "# WRRC - Pulling meta data from PDFs"
   ]
  },
  {
   "cell_type": "code",
   "execution_count": 41,
   "id": "ef2b1718",
   "metadata": {},
   "outputs": [],
   "source": [
    "#install whatever libraries I've used which you don't have\n",
    "#any errors you're getting are probably becuase you don't have the correct modules installed\n",
    "#these are probably not all of them\n",
    "#you can uncomment the ones below and run this cell to install them\n",
    "#!pip install yake\n",
    "#!pip install bs4\n",
    "#!pip install pdftotext"
   ]
  },
  {
   "cell_type": "code",
   "execution_count": 33,
   "id": "675a718d",
   "metadata": {},
   "outputs": [],
   "source": [
    "from bs4 import BeautifulSoup\n",
    "import requests, lxml, os, json\n",
    "import pdftotext\n",
    "import re\n",
    "import yake"
   ]
  },
  {
   "cell_type": "markdown",
   "id": "c04a53ba",
   "metadata": {},
   "source": [
    "# Clean pdf text"
   ]
  },
  {
   "cell_type": "code",
   "execution_count": 34,
   "id": "447f0b55",
   "metadata": {},
   "outputs": [
    {
     "data": {
      "text/plain": [
       "'hydrology Article Assessment of Terrigenous Nutrient Loading to Coastal Ecosystems along a Human LandUse Gradient Tutuila American Samoa Christopher K Shuler 12 Daniel W Amato 23 Veronica Gibson 3 Lydia Baker 4 Ashley N Olguin 5 Henrietta Dulai 12 Celia M Smith 3 and Rosanna A Alegado 567 1 Department of Earth Sciences University of Hawaii at Manoa Honolulu HI 96822 USA hdulaiovhawaiiedu 2 Water Resources Research Center University of Hawaii at Manoa Honolulu HI 96822 USA dwamatohawaiiedu 3 Botany University of Hawaii at Manoa Honolulu HI 96822 USA vgibsonhawaiiedu VG celiahawaiiedu CMS 4 Department of Microbiology Cornell University Ithaca NY 14850 USA lb693cornelledu 5 Daniel K Inouye Center for Microbial Oceanography Research and Education University of at Hawaii Manoa Honolulu HI 96822 USA ashleyolguingmailcom ANO ralegadohawaiiedu RAA 6 Department of Oceanography University of Hawaii at Manoa Honolulu HI 96822 USA 7 Sea Grant College Program University of Hawaii at Manoa Honolulu HI 96822 USA Correspondence cshulerhawaiiedu Tel 18089567847 Fax 18089565044 Received 9 January 2019 Accepted 12 February 2019 Published 16 February 2019 Abstract Anthropogenic nutrient loading is well recognized as a stressor to coastal ecosystem health However resource managers are often focused on addressing point source or surface water discharge whereas the impact of submarine groundwater discharge SGD as a nutrient vector is often unappreciated This study examines connections between land use and nutrient loading through comparison of four watersheds and embayments spanning a gradient of human use impact on Tutuila a high tropical oceanic island in American Samoa In each study location coastal radon222 measurements dissolved nutrient concentrations and nitrogen isotope values 15 N in water and in situ macroalgal tissue were used to explore SGD and baseflow derived nutrient impacts and to determine probable nutrient sources In addition to sampling in situ macroalgae pretreated macroalgal specimens were deployed throughout each embayment to uptake ambient nutrients and provide a standardized assessment of differences between locations Results show SGDderived nutrient flux was more significant than baseflow nutrient flux in all watersheds and 15 N values in water and algae suggested wastewater or manure are likely sources of elevated nutrient levels While nutrient loading correlated well with expected anthropogenic impact other factors such as differences in hydrogeology distribution of development and wastewater infrastructure also likely play a role in the visibility of impacts in each watershed Keywords submarine groundwater discharge nutrients nitrogen isotopes macroalgae nonpoint source pollution American Samoa 1 Introduction Coastal ecosystems on oceanic islands provide critical ecological services to geographically isolated populations Local residents are heavily dependent on nearshore farms for plant crops and adjacent reefs for protein Increasing urbanization has made these ecosystems vulnerable to landbased sources of pollution arising from excessive sediment and nutrient delivery that stresses corals and Hydrology 2019 6 18 doi103390hydrology6010018 wwwmdpicomjournalhydrology Hydrology 2019 6 18 2 of 27 drives persistent and harmful algal blooms 12 Terrigenous nitrogen N loading linked to variability in anthropogenic land use provides a strong control on phytoplankton turf algae and macroalgae growth in coastal environments 23 Excessive algal growth is an economic and environmental concern as the health of coastal areas is directly linked to tourism a primary economic driver in tropical island'"
      ]
     },
     "execution_count": 34,
     "metadata": {},
     "output_type": "execute_result"
    }
   ],
   "source": [
    "with open(\"./morePdfs/shuler.pdf\", \"rb\") as f:\n",
    "    pdf = pdftotext.PDF(f)\n",
    "    \n",
    "pdf_no_newlines = pdf[0].replace(\"\\n\", \" \")\n",
    "\n",
    "pdf_no_newlines += pdf[1].replace(\"\\n\", \" \")\n",
    "\n",
    "pdf_no_newlines += pdf[2].replace(\"\\n\", \" \")\n",
    "\n",
    "pdf_w_spaces = re.sub(r\"[^a-zA-Z0-9 ]\", \"\", pdf_no_newlines)\n",
    "\n",
    "pdf_cropped = pdf_w_spaces[:4000]\n",
    "\n",
    "pdf_split = pdf_cropped.split()\n",
    "\n",
    "pdf_final = \" \".join(pdf_split)\n",
    "\n",
    "pdf_final"
   ]
  },
  {
   "cell_type": "markdown",
   "id": "f814b3c4",
   "metadata": {},
   "source": [
    "# Pull keywords"
   ]
  },
  {
   "cell_type": "code",
   "execution_count": 35,
   "id": "f63ead61",
   "metadata": {},
   "outputs": [
    {
     "name": "stdout",
     "output_type": "stream",
     "text": [
      "('Honolulu', 0.003490874476577182)\n",
      "('USA', 0.0036764024832059185)\n",
      "('Manoa', 0.003734307882483832)\n",
      "('Hawaii', 0.003981098312171747)\n",
      "('University', 0.004079552855162242)\n",
      "('Nutrient', 0.005499329497540566)\n",
      "('Coastal', 0.007682947033702292)\n",
      "('Department', 0.009648189116745448)\n",
      "('Loading', 0.010331345394421414)\n",
      "('American', 0.011791429655359613)\n",
      "('Samoa', 0.011791429655359613)\n",
      "('Water', 0.012924169032303217)\n",
      "('hydrology', 0.01569571314164739)\n",
      "('February', 0.01606546844104029)\n",
      "('Ecosystems', 0.017617842902203928)\n",
      "('Daniel', 0.018564749123754686)\n",
      "('Anthropogenic', 0.019223580578650427)\n",
      "('Terrigenous', 0.021130086966096757)\n",
      "('Tutuila', 0.021130086966096757)\n",
      "('Research', 0.021130086966096757)\n"
     ]
    }
   ],
   "source": [
    "kw_extractor = yake.KeywordExtractor()\n",
    "text = pdf_final\n",
    "language = \"en\"\n",
    "max_ngram_size = 1\n",
    "deduplication_threshold = 0.9\n",
    "num_keywords = 20\n",
    "custom_kw_extractor = yake.KeywordExtractor(lan=language, n=max_ngram_size, dedupLim=deduplication_threshold, top=num_keywords, features=None)\n",
    "keywords = custom_kw_extractor.extract_keywords(text)\n",
    "for kw in keywords:\n",
    "    print(kw)"
   ]
  },
  {
   "cell_type": "markdown",
   "id": "0d0bd59c",
   "metadata": {},
   "source": [
    "# Google Scholar Scrape"
   ]
  },
  {
   "cell_type": "code",
   "execution_count": 36,
   "id": "bd46823c",
   "metadata": {},
   "outputs": [],
   "source": [
    "headers = {\n",
    "    'User-agent':\n",
    "    \"Mozilla/5.0 (Windows NT 10.0; Win64; x64) AppleWebKit/537.36 (KHTML, like Gecko) Chrome/70.0.3538.102 Safari/537.36 Edge/18.19582\"\n",
    "}\n",
    "\n",
    "params = {\n",
    "  #Three examples\n",
    "  #\"q\": \"SOURCE PARTITIONING OF ANTHROPOGENIC GROUNDWATER NITROGEN IN A MIXEDUSE LANDSCAPE TUTUILA AMERICAN SAMOA A THESIS SUBMITTED TO THE GRADUATE DIVISION OF THE UNIVERSITY OF HAWAII AT MNOA\",\n",
    "  #\"q\": pdf_no_newlines[:400]  \n",
    "  \"q\": pdf_final[:400],  \n",
    "  \"hl\": \"en\",\n",
    "}"
   ]
  },
  {
   "cell_type": "code",
   "execution_count": 37,
   "id": "14edd3cc",
   "metadata": {},
   "outputs": [],
   "source": [
    "html = requests.get('https://scholar.google.com/scholar', headers=headers, params=params).text\n",
    "soup = BeautifulSoup(html, 'lxml')"
   ]
  },
  {
   "cell_type": "code",
   "execution_count": 38,
   "id": "ab550fb5",
   "metadata": {},
   "outputs": [
    {
     "name": "stdout",
     "output_type": "stream",
     "text": [
      "https://www.mdpi.com/2306-5338/6/1/18/pdf\n"
     ]
    }
   ],
   "source": [
    "# Scrape just PDF links\n",
    "for pdf_link in soup.select('.gs_or_ggsm a'):\n",
    "    pdf_file_link = pdf_link['href']\n",
    "    print(pdf_file_link)"
   ]
  },
  {
   "cell_type": "code",
   "execution_count": 39,
   "id": "0ce606a4",
   "metadata": {},
   "outputs": [],
   "source": [
    "# JSON data will be collected here\n",
    "data = []\n",
    "\n",
    "# Container where all needed data is located\n",
    "for result in soup.select('.gs_ri'):\n",
    "    title = result.select_one('.gs_rt').text\n",
    "    title_link = result.select_one('.gs_rt a')['href']\n",
    "    publication_info = result.select_one('.gs_a').text\n",
    "    snippet = result.select_one('.gs_rs').text\n",
    "    cited_by = result.select_one('#gs_res_ccl_mid .gs_nph+ a')['href']\n",
    "    related_articles = result.select_one('a:nth-child(4)')['href']\n",
    "  \n",
    "    try:\n",
    "        all_article_versions = result.select_one('a~ a+ .gs_nph')['href']\n",
    "    except:\n",
    "        all_article_versions = None  \n",
    "    \n",
    "    data.append({\n",
    "    'title': title,\n",
    "    #'title_link': title_link,\n",
    "    'publication_info': publication_info,\n",
    "    'snippet': snippet,\n",
    "    #'cited_by': f'https://scholar.google.com{cited_by}',\n",
    "    #'related_articles': f'https://scholar.google.com{related_articles}',\n",
    "    #'all_article_versions': f'https://scholar.google.com{all_article_versions}',\n",
    "    })"
   ]
  },
  {
   "cell_type": "markdown",
   "id": "e8330aca",
   "metadata": {},
   "source": [
    "# Results"
   ]
  },
  {
   "cell_type": "code",
   "execution_count": 40,
   "id": "025f0b7b",
   "metadata": {
    "scrolled": true
   },
   "outputs": [
    {
     "name": "stdout",
     "output_type": "stream",
     "text": [
      "Assessment of terrigenous nutrient loading to coastal ecosystems along a human land-use gradient, Tutuila, American Samoa\n",
      "\n",
      "CK Shuler, DW Amato, V Gibson, L Baker, AN Olguin… - Hydrology, 2019 - mdpi.com\n",
      "\n",
      "Anthropogenic nutrient loading is well recognized as a stressor to coastal ecosystem health. However, resource managers are often focused on addressing point source or surface water discharge, whereas the impact of submarine groundwater discharge (SGD) as a nutrient vector is often unappreciated. This study examines connections between land use and nutrient loading through comparison of four watersheds and embayments spanning a gradient of human use impact on Tutuila, a high tropical oceanic island in American Samoa …\n"
     ]
    }
   ],
   "source": [
    "print(data[0]['title'])\n",
    "print()\n",
    "print(data[0]['publication_info'])\n",
    "print()\n",
    "print(data[0]['snippet'])"
   ]
  }
 ],
 "metadata": {
  "kernelspec": {
   "display_name": "Python 3",
   "language": "python",
   "name": "python3"
  },
  "language_info": {
   "codemirror_mode": {
    "name": "ipython",
    "version": 3
   },
   "file_extension": ".py",
   "mimetype": "text/x-python",
   "name": "python",
   "nbconvert_exporter": "python",
   "pygments_lexer": "ipython3",
   "version": "3.8.8"
  }
 },
 "nbformat": 4,
 "nbformat_minor": 5
}
