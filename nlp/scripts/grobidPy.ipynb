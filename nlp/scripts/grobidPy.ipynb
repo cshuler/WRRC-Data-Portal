{
 "cells": [
  {
   "cell_type": "code",
   "execution_count": 6,
   "id": "8ba9d008",
   "metadata": {},
   "outputs": [],
   "source": [
    "from grobid_client.grobid_client import GrobidClient  \n",
    "from bs4 import BeautifulSoup"
   ]
  },
  {
   "cell_type": "code",
   "execution_count": 5,
   "id": "c741187c",
   "metadata": {},
   "outputs": [
    {
     "name": "stdout",
     "output_type": "stream",
     "text": [
      "GROBID server is up and running\n"
     ]
    }
   ],
   "source": [
    "client = GrobidClient(config_path=\"./config.json\")\n",
    "client.process(\"processFulltextDocument\", \"./pdfs/\", output=\"./pdfs/outs/\", consolidate_citations=True, force=True)"
   ]
  },
  {
   "cell_type": "code",
   "execution_count": 15,
   "id": "5720ca80",
   "metadata": {},
   "outputs": [],
   "source": [
    "tei_doc = './pdfs/outs/third.tei.xml'\n",
    "with open(tei_doc, 'r') as tei:\n",
    "    soup = BeautifulSoup(tei, 'lxml')"
   ]
  },
  {
   "cell_type": "code",
   "execution_count": 16,
   "id": "0ae09822",
   "metadata": {},
   "outputs": [
    {
     "data": {
      "text/plain": [
       "'Kirs'"
      ]
     },
     "execution_count": 16,
     "metadata": {},
     "output_type": "execute_result"
    }
   ],
   "source": [
    "soup.surname.getText(strip=True)"
   ]
  },
  {
   "cell_type": "code",
   "execution_count": 19,
   "id": "5a74f413",
   "metadata": {},
   "outputs": [
    {
     "data": {
      "text/plain": [
       "'Marek'"
      ]
     },
     "execution_count": 19,
     "metadata": {},
     "output_type": "execute_result"
    }
   ],
   "source": [
    "soup.forename.getText(strip=True)"
   ]
  },
  {
   "cell_type": "code",
   "execution_count": 20,
   "id": "bb920cbc",
   "metadata": {},
   "outputs": [
    {
     "data": {
      "text/plain": [
       "'Rainwater harvesting in American Samoa: current practices and indicative health risks'"
      ]
     },
     "execution_count": 20,
     "metadata": {},
     "output_type": "execute_result"
    }
   ],
   "source": [
    "soup.title.getText(separator=' ', strip=True)"
   ]
  },
  {
   "cell_type": "code",
   "execution_count": 18,
   "id": "8622dbff",
   "metadata": {
    "scrolled": true
   },
   "outputs": [
    {
     "data": {
      "text/plain": [
       "'Roof-harvested rainwater (RHRW) is an important alternative source of water that many island communities can use for drinking and other domestic purposes when groundwater and/or surface water sources are contaminated, limited, or simply not available. The aim of this pilot-scale study was to investigate current RHRW practices in American Samoa (AS) and to evaluate and compare the quality of water from common potable water sources including RHRW stored in tanks, untreated stream water, untreated municipal well water, and treated municipal tap water samples. Samples were analyzed using culture-based methods, quantitative polymerase chain reaction (qPCR), and 16S amplicon sequencing-based methods. Based on indicator bacteria (total coliform and Escherichia coli) concentrations, the quality of RHRW was slightly lower than well and chlorinated tap water but exceeded that of untreated stream water. Although no Giardia or Leptospira spp. were detected in any of the RHRW samples, 86% of the samples were positive for Cryptosporidium spp. All stream water samples tested positive for Cryptosporidium spp. Opportunistic pathogens ( P s e u d o m o n a s a e r u g i n o s a a n d M y c o b a c t e r i u m intracellulare) were also detected in the RHRW samples (71 and 21% positive samples, respectively). Several potentially pathogenic genera of bacteria were also detected in RHRW by amplicon sequencing. Each RHRW system was characterized by distinct microbial communities, 77% of operational taxonomic units (OTUs) were detected only in a single tank, and no OTU was shared by all the tanks. Risk of water-borne illness increased in the following order: chlorinated tap water/well water < RHRW < stream water. Frequent detection of opportunistic pathogens indicates that RHRW should be treated before use. Stakeholder education on RHRW system design options as well as on importance of regular cleaning and proper management techniques could improve the quality of the RHRW in AS.'"
      ]
     },
     "execution_count": 18,
     "metadata": {},
     "output_type": "execute_result"
    }
   ],
   "source": [
    "soup.abstract.getText(separator=' ', strip=True)"
   ]
  }
 ],
 "metadata": {
  "kernelspec": {
   "display_name": "Python 3",
   "language": "python",
   "name": "python3"
  },
  "language_info": {
   "codemirror_mode": {
    "name": "ipython",
    "version": 3
   },
   "file_extension": ".py",
   "mimetype": "text/x-python",
   "name": "python",
   "nbconvert_exporter": "python",
   "pygments_lexer": "ipython3",
   "version": "3.8.8"
  }
 },
 "nbformat": 4,
 "nbformat_minor": 5
}
