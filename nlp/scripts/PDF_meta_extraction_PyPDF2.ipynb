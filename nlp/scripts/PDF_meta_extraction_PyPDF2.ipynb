{
  "nbformat": 4,
  "nbformat_minor": 0,
  "metadata": {
    "colab": {
      "name": "PDF_meta_extraction_PyPDF2.ipynb",
      "provenance": []
    },
    "kernelspec": {
      "name": "python3",
      "display_name": "Python 3"
    },
    "language_info": {
      "name": "python"
    }
  },
  "cells": [
    {
      "cell_type": "code",
      "metadata": {
        "colab": {
          "base_uri": "https://localhost:8080/"
        },
        "id": "eSZ31x169dFU",
        "outputId": "d07b8277-ae42-45d2-83ee-731b10b2924b"
      },
      "source": [
        "!pip install PyPDF2"
      ],
      "execution_count": 1,
      "outputs": [
        {
          "output_type": "stream",
          "text": [
            "Requirement already satisfied: PyPDF2 in /usr/local/lib/python3.7/dist-packages (1.26.0)\n"
          ],
          "name": "stdout"
        }
      ]
    },
    {
      "cell_type": "code",
      "metadata": {
        "id": "-WjlnvKk-Jx3"
      },
      "source": [
        "import PyPDF2"
      ],
      "execution_count": 2,
      "outputs": []
    },
    {
      "cell_type": "code",
      "metadata": {
        "id": "qUxTnv9a-aK1"
      },
      "source": [
        "pdfFile = open('ridge3_wMeta.pdf', 'rb')\n",
        "\n",
        "pdfReader = PyPDF2.PdfFileReader(pdfFile)"
      ],
      "execution_count": 3,
      "outputs": []
    },
    {
      "cell_type": "code",
      "metadata": {
        "id": "JkjMj9fKv9i8"
      },
      "source": [
        "info = pdfReader.getDocumentInfo()"
      ],
      "execution_count": 4,
      "outputs": []
    },
    {
      "cell_type": "code",
      "metadata": {
        "colab": {
          "base_uri": "https://localhost:8080/"
        },
        "id": "Otox4d0wwLLV",
        "outputId": "1022a3cb-00f5-448a-8487-161d81dabae3"
      },
      "source": [
        "authors = info.author.split(',')\n",
        "\n",
        "for author in authors:\n",
        "  print(author.lstrip().rstrip())"
      ],
      "execution_count": 5,
      "outputs": [
        {
          "output_type": "stream",
          "text": [
            "Chris Shuler\n",
            "Mia Comeros-Raynal\n"
          ],
          "name": "stdout"
        }
      ]
    },
    {
      "cell_type": "code",
      "metadata": {
        "colab": {
          "base_uri": "https://localhost:8080/"
        },
        "id": "02h8yVnVyg2M",
        "outputId": "2c663aa1-56d6-48f4-cbe4-989e129a83b3"
      },
      "source": [
        "print(info.title)"
      ],
      "execution_count": 6,
      "outputs": [
        {
          "output_type": "stream",
          "text": [
            "ridge to reef\n"
          ],
          "name": "stdout"
        }
      ]
    },
    {
      "cell_type": "code",
      "metadata": {
        "id": "x8Q9BDmF0nFD"
      },
      "source": [
        "meta = pdfReader.getXmpMetadata()\n",
        "meta = meta.pdf_keywords"
      ],
      "execution_count": 7,
      "outputs": []
    },
    {
      "cell_type": "code",
      "metadata": {
        "id": "cM0PV2X21Jur"
      },
      "source": [
        "meta = meta.split(';')"
      ],
      "execution_count": 13,
      "outputs": []
    },
    {
      "cell_type": "code",
      "metadata": {
        "colab": {
          "base_uri": "https://localhost:8080/"
        },
        "id": "WbxfnQ8O1hyJ",
        "outputId": "cbebcd43-b707-4163-88ab-d1c0fc75fa43"
      },
      "source": [
        "for keyword in meta:\n",
        "  print(keyword.lstrip().rstrip())"
      ],
      "execution_count": 15,
      "outputs": [
        {
          "output_type": "stream",
          "text": [
            "water\n",
            "resourses\n",
            "nitrogen\n"
          ],
          "name": "stdout"
        }
      ]
    }
  ]
}